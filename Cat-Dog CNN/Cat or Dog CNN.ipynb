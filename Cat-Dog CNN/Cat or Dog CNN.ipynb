{
 "cells": [
  {
   "cell_type": "markdown",
   "metadata": {},
   "source": [
    "# Cat or Dog Convolutional Neural Network"
   ]
  },
  {
   "cell_type": "markdown",
   "metadata": {},
   "source": [
    "In this notebook we will use a dataset composed of 10000 images of cats and dogs. \n",
    "In particular:\n",
    "- Training set : 4000 images of dogs and 4000 images of cats\n",
    "- Test set : 1000 images of dogs and 1000 images of cats\n",
    "\n",
    "In this case we won't have a real Data Preprocessing part, since all the preprocessing including the collection of the image, and their division in train and test set have already been done manually.\n",
    "The model has been trained using an NVIDIA GeForce GTX 1050 gpu."
   ]
  },
  {
   "cell_type": "markdown",
   "metadata": {},
   "source": [
    "## Part 1 - Building the CNN"
   ]
  },
  {
   "cell_type": "code",
   "execution_count": 2,
   "metadata": {},
   "outputs": [
    {
     "name": "stderr",
     "output_type": "stream",
     "text": [
      "C:\\Users\\Marco\\Anaconda3\\lib\\site-packages\\h5py\\__init__.py:34: FutureWarning: Conversion of the second argument of issubdtype from `float` to `np.floating` is deprecated. In future, it will be treated as `np.float64 == np.dtype(float).type`.\n",
      "  from ._conv import register_converters as _register_converters\n",
      "Using TensorFlow backend.\n"
     ]
    },
    {
     "data": {
      "text/plain": [
       "['/job:localhost/replica:0/task:0/device:GPU:0']"
      ]
     },
     "execution_count": 2,
     "metadata": {},
     "output_type": "execute_result"
    }
   ],
   "source": [
    "from keras import backend as K\n",
    "K.tensorflow_backend._get_available_gpus()"
   ]
  },
  {
   "cell_type": "code",
   "execution_count": 3,
   "metadata": {
    "collapsed": true
   },
   "outputs": [],
   "source": [
    "import tensorflow as tf\n",
    "sess = tf.Session()"
   ]
  },
  {
   "cell_type": "code",
   "execution_count": 35,
   "metadata": {
    "collapsed": true
   },
   "outputs": [],
   "source": [
    "# Import libraries\n",
    "from PIL import Image\n",
    "import h5py\n",
    "import numpy as np\n",
    "from keras.preprocessing import image\n",
    "from keras.preprocessing.image import ImageDataGenerator\n",
    "from keras.callbacks import EarlyStopping, ModelCheckpoint\n",
    "from keras.models import load_model\n",
    "from keras.models import Sequential\n",
    "from keras.layers import Convolution2D\n",
    "from keras.layers import Dropout\n",
    "from keras.layers import MaxPooling2D\n",
    "from keras.layers import Flatten\n",
    "from keras.layers import Dense\n",
    "from keras.callbacks import Callback\n",
    "import os"
   ]
  },
  {
   "cell_type": "code",
   "execution_count": 38,
   "metadata": {
    "collapsed": true
   },
   "outputs": [],
   "source": [
    "# Initialing the CNN\n",
    "classifier = Sequential()"
   ]
  },
  {
   "cell_type": "code",
   "execution_count": 39,
   "metadata": {
    "collapsed": true
   },
   "outputs": [],
   "source": [
    "# Step 1 - Convolution\n",
    "classifier.add(Convolution2D(filters = 32, kernel_size = (3, 3), input_shape = (128, 128, 3), activation = 'relu'))"
   ]
  },
  {
   "cell_type": "code",
   "execution_count": 40,
   "metadata": {
    "collapsed": true
   },
   "outputs": [],
   "source": [
    "# Step 2 - Pooling\n",
    "classifier.add(MaxPooling2D(pool_size = (2, 2)))"
   ]
  },
  {
   "cell_type": "code",
   "execution_count": 41,
   "metadata": {},
   "outputs": [],
   "source": [
    "# Add a second Convolutional Layer\n",
    "classifier.add(Convolution2D(filters = 32, kernel_size = (3, 3), activation = 'relu'))\n",
    "classifier.add(MaxPooling2D(pool_size = (2, 2)))"
   ]
  },
  {
   "cell_type": "code",
   "execution_count": 42,
   "metadata": {
    "collapsed": true
   },
   "outputs": [],
   "source": [
    "# Add a third Convolutional Layer\n",
    "classifier.add(Convolution2D(filters = 64, kernel_size = (3, 3), activation = 'relu'))\n",
    "classifier.add(MaxPooling2D(pool_size = (2, 2)))"
   ]
  },
  {
   "cell_type": "code",
   "execution_count": 43,
   "metadata": {
    "collapsed": true
   },
   "outputs": [],
   "source": [
    "# Step 3 - Flattening\n",
    "classifier.add(Flatten())"
   ]
  },
  {
   "cell_type": "code",
   "execution_count": 44,
   "metadata": {
    "collapsed": true
   },
   "outputs": [],
   "source": [
    "# Step 4 - Full Connection\n",
    "classifier.add(Dense(64, activation = 'relu'))\n",
    "classifier.add(Dropout(0.5))\n",
    "classifier.add(Dense(1, activation = 'sigmoid'))"
   ]
  },
  {
   "cell_type": "code",
   "execution_count": 45,
   "metadata": {
    "collapsed": true
   },
   "outputs": [],
   "source": [
    "# Compiling the CNN\n",
    "classifier.compile(optimizer = 'adam', loss = 'binary_crossentropy', metrics = ['accuracy'])"
   ]
  },
  {
   "cell_type": "markdown",
   "metadata": {},
   "source": [
    "## Part 2 - Fitting the CNN to the images"
   ]
  },
  {
   "cell_type": "markdown",
   "metadata": {},
   "source": [
    "We will use image augmentation to avoid overfitting. Since the NN needs lot of images, we will use this technique to augment the number of training images.\n",
    "We rescale the image so that the values of the pixels are between 0 and 1."
   ]
  },
  {
   "cell_type": "code",
   "execution_count": 46,
   "metadata": {
    "scrolled": true
   },
   "outputs": [
    {
     "name": "stdout",
     "output_type": "stream",
     "text": [
      "Found 8000 images belonging to 2 classes.\n",
      "Found 2000 images belonging to 2 classes.\n",
      "Epoch 1/90\n",
      "250/250 [==============================] - 53s 213ms/step - loss: 0.6723 - acc: 0.5707 - val_loss: 0.6356 - val_acc: 0.6220\n",
      "\n",
      "Epoch 00001: val_acc improved from -inf to 0.62200, saving model to weights4.best.hdf5\n",
      "Epoch 2/90\n",
      "250/250 [==============================] - 48s 190ms/step - loss: 0.6243 - acc: 0.6539 - val_loss: 0.5675 - val_acc: 0.7250\n",
      "\n",
      "Epoch 00002: val_acc improved from 0.62200 to 0.72500, saving model to weights4.best.hdf5\n",
      "Epoch 3/90\n",
      "250/250 [==============================] - 55s 221ms/step - loss: 0.5777 - acc: 0.6970 - val_loss: 0.5411 - val_acc: 0.7220\n",
      "\n",
      "Epoch 00003: val_acc did not improve\n",
      "Epoch 4/90\n",
      "250/250 [==============================] - 53s 212ms/step - loss: 0.5335 - acc: 0.7304 - val_loss: 0.5101 - val_acc: 0.7530\n",
      "\n",
      "Epoch 00004: val_acc improved from 0.72500 to 0.75300, saving model to weights4.best.hdf5\n",
      "Epoch 5/90\n",
      "250/250 [==============================] - 51s 205ms/step - loss: 0.5089 - acc: 0.7562 - val_loss: 0.4716 - val_acc: 0.7725\n",
      "\n",
      "Epoch 00005: val_acc improved from 0.75300 to 0.77250, saving model to weights4.best.hdf5\n",
      "Epoch 6/90\n",
      "250/250 [==============================] - 55s 221ms/step - loss: 0.4901 - acc: 0.7664 - val_loss: 0.4563 - val_acc: 0.7820\n",
      "\n",
      "Epoch 00006: val_acc improved from 0.77250 to 0.78200, saving model to weights4.best.hdf5\n",
      "Epoch 7/90\n",
      "250/250 [==============================] - 55s 221ms/step - loss: 0.4609 - acc: 0.7809 - val_loss: 0.4470 - val_acc: 0.7920\n",
      "\n",
      "Epoch 00007: val_acc improved from 0.78200 to 0.79200, saving model to weights4.best.hdf5\n",
      "Epoch 8/90\n",
      "250/250 [==============================] - 52s 207ms/step - loss: 0.4433 - acc: 0.8001 - val_loss: 0.4159 - val_acc: 0.8205\n",
      "\n",
      "Epoch 00008: val_acc improved from 0.79200 to 0.82050, saving model to weights4.best.hdf5\n",
      "Epoch 9/90\n",
      "250/250 [==============================] - 51s 203ms/step - loss: 0.4299 - acc: 0.8034 - val_loss: 0.4097 - val_acc: 0.8185\n",
      "\n",
      "Epoch 00009: val_acc did not improve\n",
      "Epoch 10/90\n",
      "250/250 [==============================] - 59s 237ms/step - loss: 0.4165 - acc: 0.8141 - val_loss: 0.4014 - val_acc: 0.8285\n",
      "\n",
      "Epoch 00010: val_acc improved from 0.82050 to 0.82850, saving model to weights4.best.hdf5\n",
      "Epoch 11/90\n",
      "250/250 [==============================] - 58s 234ms/step - loss: 0.4008 - acc: 0.8193 - val_loss: 0.4658 - val_acc: 0.7925\n",
      "\n",
      "Epoch 00011: val_acc did not improve\n",
      "Epoch 12/90\n",
      "250/250 [==============================] - 56s 226ms/step - loss: 0.3897 - acc: 0.8286 - val_loss: 0.3949 - val_acc: 0.8240\n",
      "\n",
      "Epoch 00012: val_acc did not improve\n",
      "Epoch 13/90\n",
      "250/250 [==============================] - 56s 224ms/step - loss: 0.3895 - acc: 0.8288 - val_loss: 0.3946 - val_acc: 0.8325\n",
      "\n",
      "Epoch 00013: val_acc improved from 0.82850 to 0.83250, saving model to weights4.best.hdf5\n",
      "Epoch 14/90\n",
      "250/250 [==============================] - 54s 218ms/step - loss: 0.3689 - acc: 0.8413 - val_loss: 0.3677 - val_acc: 0.8395\n",
      "\n",
      "Epoch 00014: val_acc improved from 0.83250 to 0.83950, saving model to weights4.best.hdf5\n",
      "Epoch 15/90\n",
      "250/250 [==============================] - 51s 205ms/step - loss: 0.3709 - acc: 0.8384 - val_loss: 0.3676 - val_acc: 0.8485\n",
      "\n",
      "Epoch 00015: val_acc improved from 0.83950 to 0.84850, saving model to weights4.best.hdf5\n",
      "Epoch 16/90\n",
      "250/250 [==============================] - 61s 244ms/step - loss: 0.3462 - acc: 0.8475 - val_loss: 0.3782 - val_acc: 0.8380\n",
      "\n",
      "Epoch 00016: val_acc did not improve\n",
      "Epoch 17/90\n",
      "250/250 [==============================] - 51s 205ms/step - loss: 0.3416 - acc: 0.8541 - val_loss: 0.4090 - val_acc: 0.8190\n",
      "\n",
      "Epoch 00017: val_acc did not improve\n",
      "Epoch 18/90\n",
      "250/250 [==============================] - 54s 215ms/step - loss: 0.3341 - acc: 0.8525 - val_loss: 0.3498 - val_acc: 0.8555\n",
      "\n",
      "Epoch 00018: val_acc improved from 0.84850 to 0.85550, saving model to weights4.best.hdf5\n",
      "Epoch 19/90\n",
      "250/250 [==============================] - 57s 227ms/step - loss: 0.3340 - acc: 0.8568 - val_loss: 0.3562 - val_acc: 0.8605\n",
      "\n",
      "Epoch 00019: val_acc improved from 0.85550 to 0.86050, saving model to weights4.best.hdf5\n",
      "Epoch 20/90\n",
      "250/250 [==============================] - 52s 207ms/step - loss: 0.3086 - acc: 0.8668 - val_loss: 0.3538 - val_acc: 0.8565\n",
      "\n",
      "Epoch 00020: val_acc did not improve\n",
      "Epoch 21/90\n",
      "250/250 [==============================] - 56s 223ms/step - loss: 0.3104 - acc: 0.8655 - val_loss: 0.3663 - val_acc: 0.8615\n",
      "\n",
      "Epoch 00021: val_acc improved from 0.86050 to 0.86150, saving model to weights4.best.hdf5\n",
      "Epoch 22/90\n",
      "250/250 [==============================] - 51s 205ms/step - loss: 0.3117 - acc: 0.8640 - val_loss: 0.3412 - val_acc: 0.8615\n",
      "\n",
      "Epoch 00022: val_acc did not improve\n",
      "Epoch 23/90\n",
      "250/250 [==============================] - 56s 223ms/step - loss: 0.3027 - acc: 0.8704 - val_loss: 0.3581 - val_acc: 0.8480\n",
      "\n",
      "Epoch 00023: val_acc did not improve\n",
      "Epoch 24/90\n",
      "250/250 [==============================] - 51s 205ms/step - loss: 0.2880 - acc: 0.8788 - val_loss: 0.3747 - val_acc: 0.8490\n",
      "\n",
      "Epoch 00024: val_acc did not improve\n",
      "Epoch 25/90\n",
      "250/250 [==============================] - 56s 223ms/step - loss: 0.2826 - acc: 0.8791 - val_loss: 0.3505 - val_acc: 0.8575\n",
      "\n",
      "Epoch 00025: val_acc did not improve\n",
      "Epoch 26/90\n",
      "250/250 [==============================] - 56s 223ms/step - loss: 0.2789 - acc: 0.8819 - val_loss: 0.3450 - val_acc: 0.8630\n",
      "\n",
      "Epoch 00026: val_acc improved from 0.86150 to 0.86300, saving model to weights4.best.hdf5\n",
      "Epoch 27/90\n",
      "250/250 [==============================] - 56s 223ms/step - loss: 0.2713 - acc: 0.8846 - val_loss: 0.3835 - val_acc: 0.8425\n",
      "\n",
      "Epoch 00027: val_acc did not improve\n",
      "Epoch 28/90\n",
      "250/250 [==============================] - 52s 208ms/step - loss: 0.2602 - acc: 0.8902 - val_loss: 0.3681 - val_acc: 0.8515\n",
      "\n",
      "Epoch 00028: val_acc did not improve\n",
      "Epoch 29/90\n",
      "250/250 [==============================] - 52s 206ms/step - loss: 0.2653 - acc: 0.8902 - val_loss: 0.3661 - val_acc: 0.8585\n",
      "\n",
      "Epoch 00029: val_acc did not improve\n",
      "Epoch 30/90\n",
      "250/250 [==============================] - 55s 220ms/step - loss: 0.2533 - acc: 0.8938 - val_loss: 0.3517 - val_acc: 0.8635\n",
      "\n",
      "Epoch 00030: val_acc improved from 0.86300 to 0.86350, saving model to weights4.best.hdf5\n",
      "Epoch 31/90\n",
      "250/250 [==============================] - 56s 224ms/step - loss: 0.2297 - acc: 0.9033 - val_loss: 0.5250 - val_acc: 0.8220\n",
      "\n",
      "Epoch 00031: val_acc did not improve\n",
      "Epoch 32/90\n",
      "250/250 [==============================] - 55s 219ms/step - loss: 0.2491 - acc: 0.8952 - val_loss: 0.3968 - val_acc: 0.8455\n",
      "\n",
      "Epoch 00032: val_acc did not improve\n",
      "Epoch 33/90\n",
      "250/250 [==============================] - 51s 205ms/step - loss: 0.2350 - acc: 0.8998 - val_loss: 0.3405 - val_acc: 0.8755\n",
      "\n",
      "Epoch 00033: val_acc improved from 0.86350 to 0.87550, saving model to weights4.best.hdf5\n",
      "Epoch 34/90\n",
      "250/250 [==============================] - 51s 206ms/step - loss: 0.2239 - acc: 0.9048 - val_loss: 0.3479 - val_acc: 0.8755\n",
      "\n",
      "Epoch 00034: val_acc did not improve\n",
      "Epoch 35/90\n",
      "250/250 [==============================] - 56s 225ms/step - loss: 0.2231 - acc: 0.9026 - val_loss: 0.3639 - val_acc: 0.8670\n",
      "\n",
      "Epoch 00035: val_acc did not improve\n",
      "Epoch 36/90\n",
      "250/250 [==============================] - 54s 217ms/step - loss: 0.2200 - acc: 0.9089 - val_loss: 0.3669 - val_acc: 0.8720\n",
      "\n",
      "Epoch 00036: val_acc did not improve\n",
      "Epoch 37/90\n",
      "250/250 [==============================] - 52s 207ms/step - loss: 0.2101 - acc: 0.9137 - val_loss: 0.3647 - val_acc: 0.8710\n",
      "\n",
      "Epoch 00037: val_acc did not improve\n",
      "Epoch 38/90\n",
      "250/250 [==============================] - 48s 190ms/step - loss: 0.2229 - acc: 0.9042 - val_loss: 0.3668 - val_acc: 0.8670\n",
      "\n",
      "Epoch 00038: val_acc did not improve\n",
      "Epoch 39/90\n",
      "250/250 [==============================] - 51s 205ms/step - loss: 0.2110 - acc: 0.9086 - val_loss: 0.3764 - val_acc: 0.8705\n",
      "\n",
      "Epoch 00039: val_acc did not improve\n",
      "Epoch 40/90\n",
      "250/250 [==============================] - 55s 222ms/step - loss: 0.2205 - acc: 0.9087 - val_loss: 0.3795 - val_acc: 0.8705\n",
      "\n",
      "Epoch 00040: val_acc did not improve\n",
      "Epoch 41/90\n",
      "250/250 [==============================] - 56s 223ms/step - loss: 0.2030 - acc: 0.9123 - val_loss: 0.3865 - val_acc: 0.8640\n",
      "\n",
      "Epoch 00041: val_acc did not improve\n",
      "Epoch 42/90\n"
     ]
    },
    {
     "name": "stdout",
     "output_type": "stream",
     "text": [
      "250/250 [==============================] - 56s 225ms/step - loss: 0.1988 - acc: 0.9199 - val_loss: 0.4402 - val_acc: 0.8560\n",
      "\n",
      "Epoch 00042: val_acc did not improve\n",
      "Epoch 43/90\n",
      "250/250 [==============================] - 55s 221ms/step - loss: 0.2013 - acc: 0.9113 - val_loss: 0.3947 - val_acc: 0.8670\n",
      "\n",
      "Epoch 00043: val_acc did not improve\n",
      "Epoch 44/90\n",
      "250/250 [==============================] - 47s 187ms/step - loss: 0.2082 - acc: 0.9113 - val_loss: 0.3576 - val_acc: 0.8700\n",
      "\n",
      "Epoch 00044: val_acc did not improve\n",
      "Epoch 45/90\n",
      "250/250 [==============================] - 55s 221ms/step - loss: 0.1872 - acc: 0.9206 - val_loss: 0.3905 - val_acc: 0.8795\n",
      "\n",
      "Epoch 00045: val_acc improved from 0.87550 to 0.87950, saving model to weights4.best.hdf5\n",
      "Epoch 46/90\n",
      "250/250 [==============================] - 51s 203ms/step - loss: 0.1963 - acc: 0.9178 - val_loss: 0.3743 - val_acc: 0.8720\n",
      "\n",
      "Epoch 00046: val_acc did not improve\n",
      "Epoch 47/90\n",
      "250/250 [==============================] - 55s 220ms/step - loss: 0.1882 - acc: 0.9206 - val_loss: 0.3834 - val_acc: 0.8715\n",
      "\n",
      "Epoch 00047: val_acc did not improve\n",
      "Epoch 48/90\n",
      "250/250 [==============================] - 55s 220ms/step - loss: 0.1841 - acc: 0.9207 - val_loss: 0.3731 - val_acc: 0.8660\n",
      "\n",
      "Epoch 00048: val_acc did not improve\n",
      "Epoch 49/90\n",
      "250/250 [==============================] - 55s 220ms/step - loss: 0.1802 - acc: 0.9249 - val_loss: 0.4828 - val_acc: 0.8445\n",
      "\n",
      "Epoch 00049: val_acc did not improve\n",
      "Epoch 50/90\n",
      "250/250 [==============================] - 54s 217ms/step - loss: 0.1824 - acc: 0.9223 - val_loss: 0.4383 - val_acc: 0.8620\n",
      "\n",
      "Epoch 00050: val_acc did not improve\n",
      "Epoch 51/90\n",
      "250/250 [==============================] - 52s 207ms/step - loss: 0.1766 - acc: 0.9257 - val_loss: 0.3833 - val_acc: 0.8785\n",
      "\n",
      "Epoch 00051: val_acc did not improve\n",
      "Epoch 52/90\n",
      "250/250 [==============================] - 50s 201ms/step - loss: 0.1752 - acc: 0.9277 - val_loss: 0.5009 - val_acc: 0.8410\n",
      "\n",
      "Epoch 00052: val_acc did not improve\n",
      "Epoch 53/90\n",
      "250/250 [==============================] - 55s 221ms/step - loss: 0.1751 - acc: 0.9301 - val_loss: 0.4058 - val_acc: 0.8675\n",
      "\n",
      "Epoch 00053: val_acc did not improve\n",
      "Epoch 54/90\n",
      "250/250 [==============================] - 54s 216ms/step - loss: 0.1628 - acc: 0.9301 - val_loss: 0.4059 - val_acc: 0.8725\n",
      "\n",
      "Epoch 00054: val_acc did not improve\n",
      "Epoch 55/90\n",
      "250/250 [==============================] - 53s 213ms/step - loss: 0.1652 - acc: 0.9281 - val_loss: 0.4137 - val_acc: 0.8720\n",
      "\n",
      "Epoch 00055: val_acc did not improve\n",
      "Epoch 56/90\n",
      "250/250 [==============================] - 55s 218ms/step - loss: 0.1688 - acc: 0.9313 - val_loss: 0.4055 - val_acc: 0.8745\n",
      "\n",
      "Epoch 00056: val_acc did not improve\n",
      "Epoch 57/90\n",
      "250/250 [==============================] - 52s 208ms/step - loss: 0.1691 - acc: 0.9281 - val_loss: 0.4210 - val_acc: 0.8735\n",
      "\n",
      "Epoch 00057: val_acc did not improve\n",
      "Epoch 58/90\n",
      "250/250 [==============================] - 55s 218ms/step - loss: 0.1597 - acc: 0.9324 - val_loss: 0.4237 - val_acc: 0.8665\n",
      "\n",
      "Epoch 00058: val_acc did not improve\n",
      "Epoch 59/90\n",
      "250/250 [==============================] - 51s 204ms/step - loss: 0.1559 - acc: 0.9332 - val_loss: 0.4127 - val_acc: 0.8690\n",
      "\n",
      "Epoch 00059: val_acc did not improve\n",
      "Epoch 60/90\n",
      "250/250 [==============================] - 55s 220ms/step - loss: 0.1516 - acc: 0.9345 - val_loss: 0.4785 - val_acc: 0.8725\n",
      "\n",
      "Epoch 00060: val_acc did not improve\n",
      "Epoch 61/90\n",
      "250/250 [==============================] - 51s 204ms/step - loss: 0.1562 - acc: 0.9366 - val_loss: 0.4189 - val_acc: 0.8795\n",
      "\n",
      "Epoch 00061: val_acc did not improve\n",
      "Epoch 62/90\n",
      "250/250 [==============================] - 53s 213ms/step - loss: 0.1520 - acc: 0.9391 - val_loss: 0.3872 - val_acc: 0.8770\n",
      "\n",
      "Epoch 00062: val_acc did not improve\n",
      "Epoch 63/90\n",
      "250/250 [==============================] - 56s 226ms/step - loss: 0.1565 - acc: 0.9399 - val_loss: 0.4169 - val_acc: 0.8635\n",
      "\n",
      "Epoch 00063: val_acc did not improve\n",
      "Epoch 64/90\n",
      "250/250 [==============================] - 56s 223ms/step - loss: 0.1438 - acc: 0.9386 - val_loss: 0.4401 - val_acc: 0.8760\n",
      "\n",
      "Epoch 00064: val_acc did not improve\n",
      "Epoch 65/90\n",
      "250/250 [==============================] - 52s 208ms/step - loss: 0.1463 - acc: 0.9385 - val_loss: 0.4203 - val_acc: 0.8825\n",
      "\n",
      "Epoch 00065: val_acc improved from 0.87950 to 0.88250, saving model to weights4.best.hdf5\n",
      "Epoch 66/90\n",
      "250/250 [==============================] - 48s 192ms/step - loss: 0.1607 - acc: 0.9342 - val_loss: 0.3971 - val_acc: 0.8770\n",
      "\n",
      "Epoch 00066: val_acc did not improve\n",
      "Epoch 67/90\n",
      "250/250 [==============================] - 52s 207ms/step - loss: 0.1492 - acc: 0.9379 - val_loss: 0.4659 - val_acc: 0.8695\n",
      "\n",
      "Epoch 00067: val_acc did not improve\n",
      "Epoch 68/90\n",
      "250/250 [==============================] - 52s 209ms/step - loss: 0.1408 - acc: 0.9429 - val_loss: 0.4128 - val_acc: 0.8700\n",
      "\n",
      "Epoch 00068: val_acc did not improve\n",
      "Epoch 69/90\n",
      "250/250 [==============================] - 54s 218ms/step - loss: 0.1370 - acc: 0.9421 - val_loss: 0.4163 - val_acc: 0.8820\n",
      "\n",
      "Epoch 00069: val_acc did not improve\n",
      "Epoch 70/90\n",
      "250/250 [==============================] - 51s 206ms/step - loss: 0.1394 - acc: 0.9425 - val_loss: 0.4659 - val_acc: 0.8710\n",
      "\n",
      "Epoch 00070: val_acc did not improve\n",
      "Epoch 71/90\n",
      "250/250 [==============================] - 56s 225ms/step - loss: 0.1470 - acc: 0.9361 - val_loss: 0.4360 - val_acc: 0.8815\n",
      "\n",
      "Epoch 00071: val_acc did not improve\n",
      "Epoch 72/90\n",
      "250/250 [==============================] - 48s 190ms/step - loss: 0.1461 - acc: 0.9391 - val_loss: 0.3998 - val_acc: 0.8840\n",
      "\n",
      "Epoch 00072: val_acc improved from 0.88250 to 0.88400, saving model to weights4.best.hdf5\n",
      "Epoch 73/90\n",
      "250/250 [==============================] - 55s 222ms/step - loss: 0.1387 - acc: 0.9419 - val_loss: 0.4385 - val_acc: 0.8815\n",
      "\n",
      "Epoch 00073: val_acc did not improve\n",
      "Epoch 74/90\n",
      "250/250 [==============================] - 51s 206ms/step - loss: 0.1405 - acc: 0.9413 - val_loss: 0.4336 - val_acc: 0.8830\n",
      "\n",
      "Epoch 00074: val_acc did not improve\n",
      "Epoch 75/90\n",
      "250/250 [==============================] - 51s 205ms/step - loss: 0.1353 - acc: 0.9473 - val_loss: 0.4731 - val_acc: 0.8750\n",
      "\n",
      "Epoch 00075: val_acc did not improve\n",
      "Epoch 76/90\n",
      "250/250 [==============================] - 52s 207ms/step - loss: 0.1320 - acc: 0.9486 - val_loss: 0.4352 - val_acc: 0.8815\n",
      "\n",
      "Epoch 00076: val_acc did not improve\n",
      "Epoch 77/90\n",
      "250/250 [==============================] - 51s 204ms/step - loss: 0.1394 - acc: 0.9413 - val_loss: 0.4735 - val_acc: 0.8755\n",
      "\n",
      "Epoch 00077: val_acc did not improve\n",
      "Epoch 78/90\n",
      "250/250 [==============================] - 51s 205ms/step - loss: 0.1363 - acc: 0.9461 - val_loss: 0.4363 - val_acc: 0.8720\n",
      "\n",
      "Epoch 00078: val_acc did not improve\n",
      "Epoch 79/90\n",
      "250/250 [==============================] - 51s 204ms/step - loss: 0.1240 - acc: 0.9497 - val_loss: 0.4853 - val_acc: 0.8780\n",
      "\n",
      "Epoch 00079: val_acc did not improve\n",
      "Epoch 80/90\n",
      "250/250 [==============================] - 56s 225ms/step - loss: 0.1258 - acc: 0.9515 - val_loss: 0.5007 - val_acc: 0.8700\n",
      "\n",
      "Epoch 00080: val_acc did not improve\n",
      "Epoch 81/90\n",
      "250/250 [==============================] - 55s 218ms/step - loss: 0.1221 - acc: 0.9514 - val_loss: 0.4858 - val_acc: 0.8755\n",
      "\n",
      "Epoch 00081: val_acc did not improve\n",
      "Epoch 82/90\n",
      "250/250 [==============================] - 51s 206ms/step - loss: 0.1228 - acc: 0.9507 - val_loss: 0.5307 - val_acc: 0.8740\n",
      "\n",
      "Epoch 00082: val_acc did not improve\n",
      "Epoch 83/90\n",
      "250/250 [==============================] - 56s 222ms/step - loss: 0.1405 - acc: 0.9439 - val_loss: 0.5301 - val_acc: 0.8620\n",
      "\n",
      "Epoch 00083: val_acc did not improve\n",
      "Epoch 84/90\n",
      "250/250 [==============================] - 58s 230ms/step - loss: 0.1220 - acc: 0.9490 - val_loss: 0.5084 - val_acc: 0.8755\n",
      "\n",
      "Epoch 00084: val_acc did not improve\n",
      "Epoch 85/90\n",
      "250/250 [==============================] - 57s 227ms/step - loss: 0.1211 - acc: 0.9501 - val_loss: 0.4724 - val_acc: 0.8775\n",
      "\n",
      "Epoch 00085: val_acc did not improve\n",
      "Epoch 86/90\n",
      "250/250 [==============================] - 50s 198ms/step - loss: 0.1237 - acc: 0.9467 - val_loss: 0.4754 - val_acc: 0.8775\n",
      "\n",
      "Epoch 00086: val_acc did not improve\n",
      "Epoch 87/90\n",
      "250/250 [==============================] - 52s 208ms/step - loss: 0.1125 - acc: 0.9531 - val_loss: 0.4767 - val_acc: 0.8745\n",
      "\n",
      "Epoch 00087: val_acc did not improve\n",
      "Epoch 88/90\n"
     ]
    },
    {
     "name": "stdout",
     "output_type": "stream",
     "text": [
      "250/250 [==============================] - 53s 212ms/step - loss: 0.1276 - acc: 0.9483 - val_loss: 0.4769 - val_acc: 0.8680\n",
      "\n",
      "Epoch 00088: val_acc did not improve\n",
      "Epoch 89/90\n",
      "250/250 [==============================] - 48s 192ms/step - loss: 0.1191 - acc: 0.9527 - val_loss: 0.4811 - val_acc: 0.8810\n",
      "\n",
      "Epoch 00089: val_acc did not improve\n",
      "Epoch 90/90\n",
      "250/250 [==============================] - 53s 214ms/step - loss: 0.1286 - acc: 0.9530 - val_loss: 0.4611 - val_acc: 0.8845\n",
      "\n",
      "Epoch 00090: val_acc improved from 0.88400 to 0.88450, saving model to weights4.best.hdf5\n"
     ]
    },
    {
     "data": {
      "text/plain": [
       "<keras.callbacks.History at 0x1a4021dde80>"
      ]
     },
     "execution_count": 46,
     "metadata": {},
     "output_type": "execute_result"
    }
   ],
   "source": [
    "train_datagen = ImageDataGenerator(\n",
    "        rescale=1./255,\n",
    "        shear_range=0.2,\n",
    "        zoom_range=0.2,\n",
    "        horizontal_flip=True)\n",
    "\n",
    "test_datagen = ImageDataGenerator(rescale=1./255)\n",
    "\n",
    "training_set = train_datagen.flow_from_directory('dataset/training_set',\n",
    "                                                        target_size=(128, 128),\n",
    "                                                        batch_size=32,\n",
    "                                                        class_mode='binary')\n",
    "\n",
    "test_set = test_datagen.flow_from_directory('dataset/test_set',\n",
    "                                                        target_size=(128, 128),\n",
    "                                                        batch_size=32,\n",
    "                                                        class_mode='binary')\n",
    "\n",
    "# Create a loss history\n",
    "history = LossHistory()\n",
    "\n",
    "filepath=\"weights4.best.hdf5\"\n",
    "checkpoint = ModelCheckpoint(filepath, monitor='val_acc', verbose=1, save_best_only=True, mode='max')\n",
    "callbacks_list = [checkpoint]\n",
    "\n",
    "classifier.fit_generator(training_set,\n",
    "                    steps_per_epoch=(8000/32),\n",
    "                    epochs=90,\n",
    "                    validation_data=test_set,\n",
    "                    validation_steps=(2000/32),\n",
    "                    callbacks=callbacks_list)"
   ]
  },
  {
   "cell_type": "code",
   "execution_count": 48,
   "metadata": {},
   "outputs": [],
   "source": [
    "classifier = load_model(filepath)"
   ]
  },
  {
   "cell_type": "markdown",
   "metadata": {},
   "source": [
    "Now we will try to make a single prediction, using a picture of my dog to see if our model will be able to recognize it or not "
   ]
  },
  {
   "cell_type": "code",
   "execution_count": 53,
   "metadata": {},
   "outputs": [
    {
     "data": {
      "image/png": "[encoded data removed]",
      "text/plain": [
       "<PIL.Image.Image image mode=RGB size=128x128 at 0x1A40BD03A20>"
      ]
     },
     "execution_count": 53,
     "metadata": {},
     "output_type": "execute_result"
    }
   ],
   "source": [
    "# Load image\n",
    "single_test = image.load_img('dataset/mydog/mydog.jpg', target_size = (128, 128))\n",
    "single_test"
   ]
  },
  {
   "cell_type": "markdown",
   "metadata": {},
   "source": [
    "Now we need to add a third dimension to our image, so that we will obtain a 3 dimensional array that has the shape required by the neural network"
   ]
  },
  {
   "cell_type": "code",
   "execution_count": 54,
   "metadata": {
    "collapsed": true
   },
   "outputs": [],
   "source": [
    "# Transform into an 3 dimensional array\n",
    "image_array = image.img_to_array(single_test)"
   ]
  },
  {
   "cell_type": "code",
   "execution_count": 55,
   "metadata": {
    "collapsed": true
   },
   "outputs": [],
   "source": [
    "# Add a 4th dimension that corresponds to the batch\n",
    "image_array = np.expand_dims(image_array, axis = 0)"
   ]
  },
  {
   "cell_type": "code",
   "execution_count": 56,
   "metadata": {},
   "outputs": [
    {
     "data": {
      "text/plain": [
       "{'cats': 0, 'dogs': 1}"
      ]
     },
     "execution_count": 56,
     "metadata": {},
     "output_type": "execute_result"
    }
   ],
   "source": [
    "# Single prediction\n",
    "pred = classifier.predict(image_array)\n",
    "training_set.class_indices"
   ]
  },
  {
   "cell_type": "code",
   "execution_count": 57,
   "metadata": {
    "collapsed": true
   },
   "outputs": [],
   "source": [
    "if pred[0][0] == 1:\n",
    "    prediction = 'dog'\n",
    "else:\n",
    "    prediciton = 'cat'"
   ]
  },
  {
   "cell_type": "code",
   "execution_count": 58,
   "metadata": {},
   "outputs": [
    {
     "name": "stdout",
     "output_type": "stream",
     "text": [
      "The predicted label for the image is: dog\n"
     ]
    }
   ],
   "source": [
    "print('The predicted label for the image is: ' + prediction)"
   ]
  }
 ],
 "metadata": {
  "kernelspec": {
   "display_name": "Python 3",
   "language": "python",
   "name": "python3"
  },
  "language_info": {
   "codemirror_mode": {
    "name": "ipython",
    "version": 3
   },
   "file_extension": ".py",
   "mimetype": "text/x-python",
   "name": "python",
   "nbconvert_exporter": "python",
   "pygments_lexer": "ipython3",
   "version": "3.6.3"
  }
 },
 "nbformat": 4,
 "nbformat_minor": 2
}
