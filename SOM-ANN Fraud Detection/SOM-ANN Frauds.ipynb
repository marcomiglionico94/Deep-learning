{
 "cells": [
  {
   "cell_type": "markdown",
   "metadata": {},
   "source": [
    "# Self Organizing Map and ANN for Credit Frauds"
   ]
  },
  {
   "cell_type": "markdown",
   "metadata": {},
   "source": [
    "In this notebook we will apply SOM to detect frauds, in particular which customers actually cheated. These customers will represent the outliers.\n",
    "After detecting the possible frauds we will calculate the fraud probability using an ANN\n",
    "\n",
    "The dataset can be found here:\n",
    "\n",
    "http://archive.ics.uci.edu/ml/datasets/statlog+(australian+credit+approval)\n",
    "\n",
    "This file concerns credit card applications. All attribute names and values have been changed to meaningless symbols to protect confidentiality of the data. There are 6 numerical and 8 categorical attributes. The labels have been changed for the convenience of the statistical algorithms. For example, attribute 4 originally had 3 labels p,g,gg and these have been changed to labels 1,2,3:\n",
    " - A1: 0,1 CATEGORICAL (formerly: a,b) \n",
    " - A2: continuous. \n",
    " - A3: continuous. \n",
    " - A4: 1,2,3 CATEGORICAL (formerly: p,g,gg) \n",
    " - A5: 1, 2,3,4,5, 6,7,8,9,10,11,12,13,14 CATEGORICAL (formerly: ff,d,i,k,j,aa,m,c,w, e, q, r,cc, x) \n",
    " - A6: 1, 2,3, 4,5,6,7,8,9 CATEGORICAL (formerly: ff,dd,j,bb,v,n,o,h,z) \n",
    " - A7: continuous. \n",
    " - A8: 1, 0 CATEGORICAL (formerly: t, f) \n",
    " - A9: 1, 0\tCATEGORICAL (formerly: t, f) \n",
    " - A10: continuous. \n",
    " - A11: 1, 0\tCATEGORICAL (formerly t, f) \n",
    " - A12: 1, 2, 3 CATEGORICAL (formerly: s, g, p) \n",
    " - A13: continuous. \n",
    " - A14: continuous. \n",
    " - A15: 1,2 class attribute (formerly: +,-)\n",
    "\n",
    "\n",
    "    "
   ]
  },
  {
   "cell_type": "markdown",
   "metadata": {},
   "source": [
    "## Import Libraries "
   ]
  },
  {
   "cell_type": "code",
   "execution_count": 41,
   "metadata": {},
   "outputs": [],
   "source": [
    "import numpy as np\n",
    "import pandas as pd\n",
    "import matplotlib.pyplot as plt\n",
    "import seaborn as sns\n",
    "from sklearn.preprocessing import MinMaxScaler"
   ]
  },
  {
   "cell_type": "markdown",
   "metadata": {},
   "source": [
    "## Functions"
   ]
  },
  {
   "cell_type": "code",
   "execution_count": 10,
   "metadata": {},
   "outputs": [],
   "source": [
    "# Finding the Frauds\n",
    "def get_frauds(som, treshold = 0.8):\n",
    "    coordinates = np.where(som.distance_map().T > treshold) # get only the coordinates with a MID(distance) greater than the threshold\n",
    "    result_map = [] # Create a vector of results\n",
    "    mappings = som.win_map(X) # Map winning nodes to the associated customer\n",
    "    for j in range(0,len(coordinates[0])): \n",
    "        x_c = coordinates[0][j] # Get the X coordinate\n",
    "        y_c = coordinates[1][j] # Get the y coordinate\n",
    "        if len(mappings[(x_c,y_c)]) > 0: # If in that square there is at least one mapped row\n",
    "            if len(result_map) == 0:  # If the result is empty\n",
    "                result_map = np.array(mappings[(x_c,y_c)]) # Put that row in an array\n",
    "            else:\n",
    "                result_map = np.concatenate((result_map, mappings[(x_c,y_c)]), axis=0) # Otherwise concatenate the rows with the other present in results\n",
    "    try:\n",
    "        return sc.inverse_transform(result_map) # Invert the transformation since the values were scaled\n",
    "    except: # Sometimes inverse transformation raises error\n",
    "        return []"
   ]
  },
  {
   "cell_type": "markdown",
   "metadata": {},
   "source": [
    "## Dataset "
   ]
  },
  {
   "cell_type": "code",
   "execution_count": 11,
   "metadata": {},
   "outputs": [
    {
     "data": {
      "text/html": [
       "<div>\n",
       "<style scoped>\n",
       "    .dataframe tbody tr th:only-of-type {\n",
       "        vertical-align: middle;\n",
       "    }\n",
       "\n",
       "    .dataframe tbody tr th {\n",
       "        vertical-align: top;\n",
       "    }\n",
       "\n",
       "    .dataframe thead th {\n",
       "        text-align: right;\n",
       "    }\n",
       "</style>\n",
       "<table border=\"1\" class=\"dataframe\">\n",
       "  <thead>\n",
       "    <tr style=\"text-align: right;\">\n",
       "      <th></th>\n",
       "      <th>CustomerID</th>\n",
       "      <th>A1</th>\n",
       "      <th>A2</th>\n",
       "      <th>A3</th>\n",
       "      <th>A4</th>\n",
       "      <th>A5</th>\n",
       "      <th>A6</th>\n",
       "      <th>A7</th>\n",
       "      <th>A8</th>\n",
       "      <th>A9</th>\n",
       "      <th>A10</th>\n",
       "      <th>A11</th>\n",
       "      <th>A12</th>\n",
       "      <th>A13</th>\n",
       "      <th>A14</th>\n",
       "      <th>Class</th>\n",
       "    </tr>\n",
       "  </thead>\n",
       "  <tbody>\n",
       "    <tr>\n",
       "      <th>0</th>\n",
       "      <td>15776156</td>\n",
       "      <td>1</td>\n",
       "      <td>22.08</td>\n",
       "      <td>11.46</td>\n",
       "      <td>2</td>\n",
       "      <td>4</td>\n",
       "      <td>4</td>\n",
       "      <td>1.585</td>\n",
       "      <td>0</td>\n",
       "      <td>0</td>\n",
       "      <td>0</td>\n",
       "      <td>1</td>\n",
       "      <td>2</td>\n",
       "      <td>100</td>\n",
       "      <td>1213</td>\n",
       "      <td>0</td>\n",
       "    </tr>\n",
       "    <tr>\n",
       "      <th>1</th>\n",
       "      <td>15739548</td>\n",
       "      <td>0</td>\n",
       "      <td>22.67</td>\n",
       "      <td>7.00</td>\n",
       "      <td>2</td>\n",
       "      <td>8</td>\n",
       "      <td>4</td>\n",
       "      <td>0.165</td>\n",
       "      <td>0</td>\n",
       "      <td>0</td>\n",
       "      <td>0</td>\n",
       "      <td>0</td>\n",
       "      <td>2</td>\n",
       "      <td>160</td>\n",
       "      <td>1</td>\n",
       "      <td>0</td>\n",
       "    </tr>\n",
       "    <tr>\n",
       "      <th>2</th>\n",
       "      <td>15662854</td>\n",
       "      <td>0</td>\n",
       "      <td>29.58</td>\n",
       "      <td>1.75</td>\n",
       "      <td>1</td>\n",
       "      <td>4</td>\n",
       "      <td>4</td>\n",
       "      <td>1.250</td>\n",
       "      <td>0</td>\n",
       "      <td>0</td>\n",
       "      <td>0</td>\n",
       "      <td>1</td>\n",
       "      <td>2</td>\n",
       "      <td>280</td>\n",
       "      <td>1</td>\n",
       "      <td>0</td>\n",
       "    </tr>\n",
       "    <tr>\n",
       "      <th>3</th>\n",
       "      <td>15687688</td>\n",
       "      <td>0</td>\n",
       "      <td>21.67</td>\n",
       "      <td>11.50</td>\n",
       "      <td>1</td>\n",
       "      <td>5</td>\n",
       "      <td>3</td>\n",
       "      <td>0.000</td>\n",
       "      <td>1</td>\n",
       "      <td>1</td>\n",
       "      <td>11</td>\n",
       "      <td>1</td>\n",
       "      <td>2</td>\n",
       "      <td>0</td>\n",
       "      <td>1</td>\n",
       "      <td>1</td>\n",
       "    </tr>\n",
       "    <tr>\n",
       "      <th>4</th>\n",
       "      <td>15715750</td>\n",
       "      <td>1</td>\n",
       "      <td>20.17</td>\n",
       "      <td>8.17</td>\n",
       "      <td>2</td>\n",
       "      <td>6</td>\n",
       "      <td>4</td>\n",
       "      <td>1.960</td>\n",
       "      <td>1</td>\n",
       "      <td>1</td>\n",
       "      <td>14</td>\n",
       "      <td>0</td>\n",
       "      <td>2</td>\n",
       "      <td>60</td>\n",
       "      <td>159</td>\n",
       "      <td>1</td>\n",
       "    </tr>\n",
       "  </tbody>\n",
       "</table>\n",
       "</div>"
      ],
      "text/plain": [
       "   CustomerID  A1     A2     A3  A4  A5  A6     A7  A8  A9  A10  A11  A12  \\\n",
       "0    15776156   1  22.08  11.46   2   4   4  1.585   0   0    0    1    2   \n",
       "1    15739548   0  22.67   7.00   2   8   4  0.165   0   0    0    0    2   \n",
       "2    15662854   0  29.58   1.75   1   4   4  1.250   0   0    0    1    2   \n",
       "3    15687688   0  21.67  11.50   1   5   3  0.000   1   1   11    1    2   \n",
       "4    15715750   1  20.17   8.17   2   6   4  1.960   1   1   14    0    2   \n",
       "\n",
       "   A13   A14  Class  \n",
       "0  100  1213      0  \n",
       "1  160     1      0  \n",
       "2  280     1      0  \n",
       "3    0     1      1  \n",
       "4   60   159      1  "
      ]
     },
     "execution_count": 11,
     "metadata": {},
     "output_type": "execute_result"
    }
   ],
   "source": [
    "# Read dataset\n",
    "df = pd.read_csv('Credit_Card_Applications.csv')\n",
    "df.head()"
   ]
  },
  {
   "cell_type": "code",
   "execution_count": 12,
   "metadata": {},
   "outputs": [
    {
     "name": "stdout",
     "output_type": "stream",
     "text": [
      "<class 'pandas.core.frame.DataFrame'>\n",
      "RangeIndex: 690 entries, 0 to 689\n",
      "Data columns (total 16 columns):\n",
      "CustomerID    690 non-null int64\n",
      "A1            690 non-null int64\n",
      "A2            690 non-null float64\n",
      "A3            690 non-null float64\n",
      "A4            690 non-null int64\n",
      "A5            690 non-null int64\n",
      "A6            690 non-null int64\n",
      "A7            690 non-null float64\n",
      "A8            690 non-null int64\n",
      "A9            690 non-null int64\n",
      "A10           690 non-null int64\n",
      "A11           690 non-null int64\n",
      "A12           690 non-null int64\n",
      "A13           690 non-null int64\n",
      "A14           690 non-null int64\n",
      "Class         690 non-null int64\n",
      "dtypes: float64(3), int64(13)\n",
      "memory usage: 86.3 KB\n"
     ]
    }
   ],
   "source": [
    "df.info()"
   ]
  },
  {
   "cell_type": "code",
   "execution_count": 13,
   "metadata": {},
   "outputs": [
    {
     "data": {
      "text/html": [
       "<div>\n",
       "<style scoped>\n",
       "    .dataframe tbody tr th:only-of-type {\n",
       "        vertical-align: middle;\n",
       "    }\n",
       "\n",
       "    .dataframe tbody tr th {\n",
       "        vertical-align: top;\n",
       "    }\n",
       "\n",
       "    .dataframe thead th {\n",
       "        text-align: right;\n",
       "    }\n",
       "</style>\n",
       "<table border=\"1\" class=\"dataframe\">\n",
       "  <thead>\n",
       "    <tr style=\"text-align: right;\">\n",
       "      <th></th>\n",
       "      <th>CustomerID</th>\n",
       "      <th>A1</th>\n",
       "      <th>A2</th>\n",
       "      <th>A3</th>\n",
       "      <th>A4</th>\n",
       "      <th>A5</th>\n",
       "      <th>A6</th>\n",
       "      <th>A7</th>\n",
       "      <th>A8</th>\n",
       "      <th>A9</th>\n",
       "      <th>A10</th>\n",
       "      <th>A11</th>\n",
       "      <th>A12</th>\n",
       "      <th>A13</th>\n",
       "      <th>A14</th>\n",
       "      <th>Class</th>\n",
       "    </tr>\n",
       "  </thead>\n",
       "  <tbody>\n",
       "    <tr>\n",
       "      <th>count</th>\n",
       "      <td>6.900000e+02</td>\n",
       "      <td>690.000000</td>\n",
       "      <td>690.000000</td>\n",
       "      <td>690.000000</td>\n",
       "      <td>690.000000</td>\n",
       "      <td>690.000000</td>\n",
       "      <td>690.000000</td>\n",
       "      <td>690.000000</td>\n",
       "      <td>690.000000</td>\n",
       "      <td>690.000000</td>\n",
       "      <td>690.00000</td>\n",
       "      <td>690.000000</td>\n",
       "      <td>690.000000</td>\n",
       "      <td>690.000000</td>\n",
       "      <td>690.000000</td>\n",
       "      <td>690.000000</td>\n",
       "    </tr>\n",
       "    <tr>\n",
       "      <th>mean</th>\n",
       "      <td>1.569047e+07</td>\n",
       "      <td>0.678261</td>\n",
       "      <td>31.568203</td>\n",
       "      <td>4.758725</td>\n",
       "      <td>1.766667</td>\n",
       "      <td>7.372464</td>\n",
       "      <td>4.692754</td>\n",
       "      <td>2.223406</td>\n",
       "      <td>0.523188</td>\n",
       "      <td>0.427536</td>\n",
       "      <td>2.40000</td>\n",
       "      <td>0.457971</td>\n",
       "      <td>1.928986</td>\n",
       "      <td>184.014493</td>\n",
       "      <td>1018.385507</td>\n",
       "      <td>0.444928</td>\n",
       "    </tr>\n",
       "    <tr>\n",
       "      <th>std</th>\n",
       "      <td>7.150647e+04</td>\n",
       "      <td>0.467482</td>\n",
       "      <td>11.853273</td>\n",
       "      <td>4.978163</td>\n",
       "      <td>0.430063</td>\n",
       "      <td>3.683265</td>\n",
       "      <td>1.992316</td>\n",
       "      <td>3.346513</td>\n",
       "      <td>0.499824</td>\n",
       "      <td>0.495080</td>\n",
       "      <td>4.86294</td>\n",
       "      <td>0.498592</td>\n",
       "      <td>0.298813</td>\n",
       "      <td>172.159274</td>\n",
       "      <td>5210.102598</td>\n",
       "      <td>0.497318</td>\n",
       "    </tr>\n",
       "    <tr>\n",
       "      <th>min</th>\n",
       "      <td>1.556571e+07</td>\n",
       "      <td>0.000000</td>\n",
       "      <td>13.750000</td>\n",
       "      <td>0.000000</td>\n",
       "      <td>1.000000</td>\n",
       "      <td>1.000000</td>\n",
       "      <td>1.000000</td>\n",
       "      <td>0.000000</td>\n",
       "      <td>0.000000</td>\n",
       "      <td>0.000000</td>\n",
       "      <td>0.00000</td>\n",
       "      <td>0.000000</td>\n",
       "      <td>1.000000</td>\n",
       "      <td>0.000000</td>\n",
       "      <td>1.000000</td>\n",
       "      <td>0.000000</td>\n",
       "    </tr>\n",
       "    <tr>\n",
       "      <th>25%</th>\n",
       "      <td>1.563169e+07</td>\n",
       "      <td>0.000000</td>\n",
       "      <td>22.670000</td>\n",
       "      <td>1.000000</td>\n",
       "      <td>2.000000</td>\n",
       "      <td>4.000000</td>\n",
       "      <td>4.000000</td>\n",
       "      <td>0.165000</td>\n",
       "      <td>0.000000</td>\n",
       "      <td>0.000000</td>\n",
       "      <td>0.00000</td>\n",
       "      <td>0.000000</td>\n",
       "      <td>2.000000</td>\n",
       "      <td>80.000000</td>\n",
       "      <td>1.000000</td>\n",
       "      <td>0.000000</td>\n",
       "    </tr>\n",
       "    <tr>\n",
       "      <th>50%</th>\n",
       "      <td>1.569016e+07</td>\n",
       "      <td>1.000000</td>\n",
       "      <td>28.625000</td>\n",
       "      <td>2.750000</td>\n",
       "      <td>2.000000</td>\n",
       "      <td>8.000000</td>\n",
       "      <td>4.000000</td>\n",
       "      <td>1.000000</td>\n",
       "      <td>1.000000</td>\n",
       "      <td>0.000000</td>\n",
       "      <td>0.00000</td>\n",
       "      <td>0.000000</td>\n",
       "      <td>2.000000</td>\n",
       "      <td>160.000000</td>\n",
       "      <td>6.000000</td>\n",
       "      <td>0.000000</td>\n",
       "    </tr>\n",
       "    <tr>\n",
       "      <th>75%</th>\n",
       "      <td>1.575190e+07</td>\n",
       "      <td>1.000000</td>\n",
       "      <td>37.707500</td>\n",
       "      <td>7.207500</td>\n",
       "      <td>2.000000</td>\n",
       "      <td>10.000000</td>\n",
       "      <td>5.000000</td>\n",
       "      <td>2.625000</td>\n",
       "      <td>1.000000</td>\n",
       "      <td>1.000000</td>\n",
       "      <td>3.00000</td>\n",
       "      <td>1.000000</td>\n",
       "      <td>2.000000</td>\n",
       "      <td>272.000000</td>\n",
       "      <td>396.500000</td>\n",
       "      <td>1.000000</td>\n",
       "    </tr>\n",
       "    <tr>\n",
       "      <th>max</th>\n",
       "      <td>1.581544e+07</td>\n",
       "      <td>1.000000</td>\n",
       "      <td>80.250000</td>\n",
       "      <td>28.000000</td>\n",
       "      <td>3.000000</td>\n",
       "      <td>14.000000</td>\n",
       "      <td>9.000000</td>\n",
       "      <td>28.500000</td>\n",
       "      <td>1.000000</td>\n",
       "      <td>1.000000</td>\n",
       "      <td>67.00000</td>\n",
       "      <td>1.000000</td>\n",
       "      <td>3.000000</td>\n",
       "      <td>2000.000000</td>\n",
       "      <td>100001.000000</td>\n",
       "      <td>1.000000</td>\n",
       "    </tr>\n",
       "  </tbody>\n",
       "</table>\n",
       "</div>"
      ],
      "text/plain": [
       "         CustomerID          A1          A2          A3          A4  \\\n",
       "count  6.900000e+02  690.000000  690.000000  690.000000  690.000000   \n",
       "mean   1.569047e+07    0.678261   31.568203    4.758725    1.766667   \n",
       "std    7.150647e+04    0.467482   11.853273    4.978163    0.430063   \n",
       "min    1.556571e+07    0.000000   13.750000    0.000000    1.000000   \n",
       "25%    1.563169e+07    0.000000   22.670000    1.000000    2.000000   \n",
       "50%    1.569016e+07    1.000000   28.625000    2.750000    2.000000   \n",
       "75%    1.575190e+07    1.000000   37.707500    7.207500    2.000000   \n",
       "max    1.581544e+07    1.000000   80.250000   28.000000    3.000000   \n",
       "\n",
       "               A5          A6          A7          A8          A9        A10  \\\n",
       "count  690.000000  690.000000  690.000000  690.000000  690.000000  690.00000   \n",
       "mean     7.372464    4.692754    2.223406    0.523188    0.427536    2.40000   \n",
       "std      3.683265    1.992316    3.346513    0.499824    0.495080    4.86294   \n",
       "min      1.000000    1.000000    0.000000    0.000000    0.000000    0.00000   \n",
       "25%      4.000000    4.000000    0.165000    0.000000    0.000000    0.00000   \n",
       "50%      8.000000    4.000000    1.000000    1.000000    0.000000    0.00000   \n",
       "75%     10.000000    5.000000    2.625000    1.000000    1.000000    3.00000   \n",
       "max     14.000000    9.000000   28.500000    1.000000    1.000000   67.00000   \n",
       "\n",
       "              A11         A12          A13            A14       Class  \n",
       "count  690.000000  690.000000   690.000000     690.000000  690.000000  \n",
       "mean     0.457971    1.928986   184.014493    1018.385507    0.444928  \n",
       "std      0.498592    0.298813   172.159274    5210.102598    0.497318  \n",
       "min      0.000000    1.000000     0.000000       1.000000    0.000000  \n",
       "25%      0.000000    2.000000    80.000000       1.000000    0.000000  \n",
       "50%      0.000000    2.000000   160.000000       6.000000    0.000000  \n",
       "75%      1.000000    2.000000   272.000000     396.500000    1.000000  \n",
       "max      1.000000    3.000000  2000.000000  100001.000000    1.000000  "
      ]
     },
     "execution_count": 13,
     "metadata": {},
     "output_type": "execute_result"
    }
   ],
   "source": [
    "df.describe()"
   ]
  },
  {
   "cell_type": "markdown",
   "metadata": {},
   "source": [
    "We divide our datatset into two subsets X and y. In our SOM we will only use X"
   ]
  },
  {
   "cell_type": "code",
   "execution_count": 14,
   "metadata": {},
   "outputs": [],
   "source": [
    "# Divide Dataset\n",
    "X = df.iloc[:, :-1].values\n",
    "y = df.iloc[:, -1].values"
   ]
  },
  {
   "cell_type": "code",
   "execution_count": 15,
   "metadata": {},
   "outputs": [],
   "source": [
    "# Feature Scaling\n",
    "sc = MinMaxScaler(feature_range = (0, 1))\n",
    "X = sc.fit_transform(X)"
   ]
  },
  {
   "cell_type": "markdown",
   "metadata": {},
   "source": [
    "## Part 1 - Identify Frauds using SOM"
   ]
  },
  {
   "cell_type": "markdown",
   "metadata": {},
   "source": [
    "We will use an existing implementation of SOM"
   ]
  },
  {
   "cell_type": "code",
   "execution_count": 16,
   "metadata": {},
   "outputs": [],
   "source": [
    "from minisom import MiniSom"
   ]
  },
  {
   "cell_type": "code",
   "execution_count": 17,
   "metadata": {},
   "outputs": [],
   "source": [
    "multi_results = []\n",
    "cv = 10 # number of epochs\n",
    "treshold = 0.8 # MID treshold"
   ]
  },
  {
   "cell_type": "code",
   "execution_count": 26,
   "metadata": {},
   "outputs": [
    {
     "name": "stdout",
     "output_type": "stream",
     "text": [
      "Epoch #0... done\n",
      "Epoch #1... done\n",
      "Epoch #2... done\n",
      "Epoch #3... done\n",
      "Epoch #4... done\n",
      "Epoch #5... done\n",
      "Epoch #6... done\n",
      "Epoch #7... done\n",
      "Epoch #8... done\n",
      "Epoch #9... done\n"
     ]
    }
   ],
   "source": [
    "# Train the SOM for the desired number of epochs\n",
    "for i in range(0,cv):\n",
    "    print(\"Epoch #{0}...\".format(i), end =\" \")\n",
    "    som = MiniSom(x = 10, y = 10, input_len = X.shape[1], sigma = 1.0, learning_rate = 0.5) # x and y represent the grid dimension\n",
    "    som.random_weights_init(X) # initialize weights at random\n",
    "    som.train_random(data = X, num_iteration = 100) # Train for 100 iterations\n",
    " \n",
    "    frauds = []\n",
    "    frauds = get_frauds(som, treshold = treshold) # Get the rows above the threshold\n",
    "    if len(frauds) == 0:\n",
    "        print(\"failed\")\n",
    "    else:\n",
    "        print(\"done\")\n",
    "        frauds = frauds[:,0] # select only customer IDs\n",
    "        if len(multi_results) == 0: # If there are no elements\n",
    "            multi_results = frauds \n",
    "        elif len(frauds) > 0: # if there are other elements\n",
    "            multi_results = np.concatenate((multi_results,frauds), axis = 0) # Concatenate the ID"
   ]
  },
  {
   "cell_type": "markdown",
   "metadata": {},
   "source": [
    "## Visualize Results"
   ]
  },
  {
   "cell_type": "code",
   "execution_count": 19,
   "metadata": {},
   "outputs": [],
   "source": [
    "from pylab import bone, pcolor, colorbar, plot, show, legend"
   ]
  },
  {
   "cell_type": "markdown",
   "metadata": {},
   "source": [
    "We will now plot an example of a SOM to have a more clear idea of how a SOM looks like"
   ]
  },
  {
   "cell_type": "code",
   "execution_count": 50,
   "metadata": {},
   "outputs": [
    {
     "data": {
      "text/plain": [
       "<matplotlib.legend.Legend at 0x14bda3b4e80>"
      ]
     },
     "execution_count": 50,
     "metadata": {},
     "output_type": "execute_result"
    },
    {
     "data": {
      "image/png": "[encoded data removed]",
      "text/plain": [
       "<matplotlib.figure.Figure at 0x14bdb64c6a0>"
      ]
     },
     "metadata": {},
     "output_type": "display_data"
    }
   ],
   "source": [
    "# Plot \n",
    "plt.figure(figsize=(20,15))\n",
    "bone() # Initialize the window\n",
    "pcolor(som.distance_map().T) # Will return all the min interneuron distances(MID) scaled from 0 to 1 in one matrix\n",
    "colorbar() # Legend\n",
    "markers = ['o', 's'] # Markers\n",
    "colors = ['r', 'g'] # Colors\n",
    "label = ['Denied']\n",
    "for i, x in enumerate(X):\n",
    "    w = som.winner(x) # Winning node for customer x\n",
    "    # We place the marker in the center of the square (w[0] and w[1] are the coordinates)\n",
    "    plot(w[0] + 0.5,  \n",
    "         w[1] + 0.5,\n",
    "         markers[y[i]],\n",
    "         markeredgecolor = colors[y[i]],\n",
    "         markerfacecolor = 'None',\n",
    "         markersize = 10,\n",
    "         markeredgewidth = 2,)\n",
    "legend(label)\n",
    "    "
   ]
  },
  {
   "cell_type": "markdown",
   "metadata": {},
   "source": [
    "We can notice that the highest MID correspond to the dark color while the smallest MID correspond to the white color. The value are between 0 and 1 since the data have been normalized between 0 and 1.\n",
    "\n",
    "The white winning nodes represented in white have larger MID and so they correspond to the outliers.\n",
    "In the white square that represents the outlier we can notice some approval and not approval since we have both a square and a circle.\n",
    "\n",
    "In particular we are interested in finding the ones that got approved but that we identify as outliers.\n",
    "\n",
    "The red square represent customers that were not approved while the green the customers that were approved."
   ]
  },
  {
   "cell_type": "markdown",
   "metadata": {},
   "source": [
    "## Statistical Results"
   ]
  },
  {
   "cell_type": "markdown",
   "metadata": {},
   "source": [
    "The main problem is that due to the randomness of the algorithm, the results are different everytime we run it. For this reason we decided to run the experiment for multiple epochs and get the results of each epoch."
   ]
  },
  {
   "cell_type": "code",
   "execution_count": 48,
   "metadata": {},
   "outputs": [
    {
     "data": {
      "image/png": "[encoded data removed]",
      "text/plain": [
       "<matplotlib.figure.Figure at 0x14bd98bc780>"
      ]
     },
     "metadata": {},
     "output_type": "display_data"
    }
   ],
   "source": [
    "plt.rcParams[\"patch.force_edgecolor\"] = False\n",
    "# Display histogram with as many bins unique occurences\n",
    "len(np.unique(multi_results)) # Get only the unique ID\n",
    "plt.figure()\n",
    "# We use an histogram to get the frequence of each ID\n",
    "histogram = plt.hist(multi_results,bins = np.unique(multi_results), range = (multi_results.min(),multi_results.max()))\n",
    "plt.xlabel('customerIds')\n",
    "plt.ylabel('frequency out of {0} tests'.format(cv))\n",
    "plt.title('Histogram of customerIDs detected as frauds(MID > {0})'.format(treshold))\n",
    "plt.grid()"
   ]
  },
  {
   "cell_type": "code",
   "execution_count": 49,
   "metadata": {},
   "outputs": [
    {
     "data": {
      "image/png": "[encoded data removed]",
      "text/plain": [
       "<matplotlib.figure.Figure at 0x14bdb9feba8>"
      ]
     },
     "metadata": {},
     "output_type": "display_data"
    }
   ],
   "source": [
    "# Get hist frequencies\n",
    "plt.rcParams[\"patch.force_edgecolor\"] = True\n",
    "frequencies = histogram[0]\n",
    "plt.figure()\n",
    "plt.hist(frequencies)\n",
    " \n",
    "# select 95% percentile limit \n",
    "lim = np.percentile(frequencies,95)"
   ]
  },
  {
   "cell_type": "markdown",
   "metadata": {},
   "source": [
    "We will now select only those customers who were above the 95% percentile limit"
   ]
  },
  {
   "cell_type": "code",
   "execution_count": 30,
   "metadata": {},
   "outputs": [
    {
     "name": "stdout",
     "output_type": "stream",
     "text": [
      "Found 87 customers, who were detected more than 5.0 times during 10 tests\n"
     ]
    }
   ],
   "source": [
    "# get customers ids who were over limit\n",
    "frauds = []\n",
    "for i in range(0,len(frequencies)):\n",
    "    if frequencies[i] >= lim: #\n",
    "        frauds = np.append(frauds,histogram[1][i])\n",
    "print(\"Found {0} customers, who were detected more than {1} times during {2} tests\".format(len(frauds),lim,cv))"
   ]
  },
  {
   "cell_type": "markdown",
   "metadata": {},
   "source": [
    "The customer founds are the ones that probably made a fraud"
   ]
  },
  {
   "cell_type": "code",
   "execution_count": 31,
   "metadata": {},
   "outputs": [
    {
     "name": "stdout",
     "output_type": "stream",
     "text": [
      "Possible customer ID fraud: \n",
      "[ 15569595.  15571081.  15571571.  15576680.  15577771.  15583680.\n",
      "  15585192.  15585892.  15586183.  15586479.  15587297.  15587443.\n",
      "  15589541.  15592999.  15593834.  15593959.  15594305.  15599272.\n",
      "  15604536.  15607988.  15608595.  15608916.  15609758.  15609823.\n",
      "  15609987.  15611318.  15611682.  15614813.  15615296.  15618258.\n",
      "  15620570.  15621546.  15625501.  15627365.  15631685.  15632010.\n",
      "  15633608.  15635598.  15646082.  15646594.  15651868.  15653147.\n",
      "  15660528.  15666096.  15671534.  15672432.  15672637.  15672894.\n",
      "  15673907.  15675926.  15677395.  15682540.  15683993.  15687765.\n",
      "  15692718.  15694237.  15697460.  15699839.  15705918.  15706268.\n",
      "  15711299.  15714087.  15728523.  15734008.  15736533.  15737909.\n",
      "  15739548.  15746995.  15752578.  15753591.  15756538.  15757434.\n",
      "  15757933.  15764444.  15769548.  15773934.  15777893.  15778589.\n",
      "  15783883.  15789865.  15794204.  15803378.  15805261.  15805627.\n",
      "  15812918.  15813718.  15815271.]\n"
     ]
    }
   ],
   "source": [
    "print('Possible customer ID fraud: ')\n",
    "print(frauds)"
   ]
  },
  {
   "cell_type": "markdown",
   "metadata": {},
   "source": [
    "## Part 2 - From Unsupervised to Supervised"
   ]
  },
  {
   "cell_type": "markdown",
   "metadata": {},
   "source": [
    "In this second part we want to predict the probability of fraud for each customer. For this reason we will use only the features that we think will be useful for that. For example the customer ID won't be included"
   ]
  },
  {
   "cell_type": "code",
   "execution_count": 33,
   "metadata": {},
   "outputs": [],
   "source": [
    "# Creating the Matrix of features\n",
    "customers = df.iloc[:, 1:].values"
   ]
  },
  {
   "cell_type": "code",
   "execution_count": 36,
   "metadata": {},
   "outputs": [],
   "source": [
    "# Creating the dependent variable\n",
    "is_fraud = np.zeros(len(df)) "
   ]
  },
  {
   "cell_type": "code",
   "execution_count": 40,
   "metadata": {},
   "outputs": [],
   "source": [
    "# Replace the 0 with a 1 for the customer present in the fraud vector\n",
    "for i in range(len(df)):\n",
    "    if df.iloc[i,0] in frauds :\n",
    "        is_fraud[i] = 1"
   ]
  },
  {
   "cell_type": "markdown",
   "metadata": {},
   "source": [
    "## Train the Artificial Neural Network (ANN)"
   ]
  },
  {
   "cell_type": "code",
   "execution_count": 51,
   "metadata": {},
   "outputs": [],
   "source": [
    "# Import libraries\n",
    "from sklearn.preprocessing import StandardScaler\n",
    "from keras.models import Sequential\n",
    "from keras.layers import Dense"
   ]
  },
  {
   "cell_type": "code",
   "execution_count": 52,
   "metadata": {},
   "outputs": [],
   "source": [
    "# Scale the data\n",
    "sc = StandardScaler()\n",
    "customers = sc.fit_transform(customers)"
   ]
  },
  {
   "cell_type": "code",
   "execution_count": 57,
   "metadata": {},
   "outputs": [
    {
     "name": "stdout",
     "output_type": "stream",
     "text": [
      "Epoch 1/2\n",
      "690/690 [==============================] - 1s 2ms/step - loss: 0.5771 - acc: 0.8710\n",
      "Epoch 2/2\n",
      "690/690 [==============================] - 1s 1ms/step - loss: 0.3722 - acc: 0.8739\n"
     ]
    },
    {
     "data": {
      "text/plain": [
       "<keras.callbacks.History at 0x14be0387dd8>"
      ]
     },
     "execution_count": 57,
     "metadata": {},
     "output_type": "execute_result"
    }
   ],
   "source": [
    "# Train the ANN\n",
    "model = Sequential()\n",
    "# Add the first Dense Layer\n",
    "model.add(Dense( units = 2, kernel_initializer = 'uniform', activation = 'relu', input_shape = (15,)))\n",
    "# Add the output layer\n",
    "model.add(Dense(units = 1, kernel_initializer = 'uniform', activation = 'sigmoid'))\n",
    "# Compile the model\n",
    "model.compile(optimizer = 'adam', loss = 'binary_crossentropy', metrics = ['accuracy'])\n",
    "# Fit the model to the Training Data\n",
    "model.fit(customers, is_fraud, batch_size = 1, epochs = 2)"
   ]
  },
  {
   "cell_type": "code",
   "execution_count": 75,
   "metadata": {},
   "outputs": [],
   "source": [
    "# Predicting the probabilities of frauds\n",
    "predictions = model.predict(customers)"
   ]
  },
  {
   "cell_type": "code",
   "execution_count": 82,
   "metadata": {},
   "outputs": [],
   "source": [
    "# Now we will create a vector of 2 columns containing customer ID and the probability of fraud\n",
    "customer_id = df.iloc[:, 0:1]"
   ]
  },
  {
   "cell_type": "code",
   "execution_count": 87,
   "metadata": {},
   "outputs": [],
   "source": [
    "fraud_customer = np.concatenate((customer_id, predictions), axis = 1)"
   ]
  },
  {
   "cell_type": "code",
   "execution_count": 146,
   "metadata": {},
   "outputs": [
    {
     "data": {
      "text/html": [
       "<div>\n",
       "<style scoped>\n",
       "    .dataframe tbody tr th:only-of-type {\n",
       "        vertical-align: middle;\n",
       "    }\n",
       "\n",
       "    .dataframe tbody tr th {\n",
       "        vertical-align: top;\n",
       "    }\n",
       "\n",
       "    .dataframe thead th {\n",
       "        text-align: right;\n",
       "    }\n",
       "</style>\n",
       "<table border=\"1\" class=\"dataframe\">\n",
       "  <thead>\n",
       "    <tr style=\"text-align: right;\">\n",
       "      <th></th>\n",
       "      <th>Customer ID</th>\n",
       "      <th>Fraud Probability</th>\n",
       "    </tr>\n",
       "  </thead>\n",
       "  <tbody>\n",
       "    <tr>\n",
       "      <th>0</th>\n",
       "      <td>15586183.0</td>\n",
       "      <td>0.361048</td>\n",
       "    </tr>\n",
       "    <tr>\n",
       "      <th>1</th>\n",
       "      <td>15575605.0</td>\n",
       "      <td>0.361048</td>\n",
       "    </tr>\n",
       "    <tr>\n",
       "      <th>2</th>\n",
       "      <td>15666096.0</td>\n",
       "      <td>0.361048</td>\n",
       "    </tr>\n",
       "    <tr>\n",
       "      <th>3</th>\n",
       "      <td>15660528.0</td>\n",
       "      <td>0.358335</td>\n",
       "    </tr>\n",
       "    <tr>\n",
       "      <th>4</th>\n",
       "      <td>15576680.0</td>\n",
       "      <td>0.355619</td>\n",
       "    </tr>\n",
       "  </tbody>\n",
       "</table>\n",
       "</div>"
      ],
      "text/plain": [
       "   Customer ID  Fraud Probability\n",
       "0   15586183.0           0.361048\n",
       "1   15575605.0           0.361048\n",
       "2   15666096.0           0.361048\n",
       "3   15660528.0           0.358335\n",
       "4   15576680.0           0.355619"
      ]
     },
     "execution_count": 146,
     "metadata": {},
     "output_type": "execute_result"
    }
   ],
   "source": [
    "# Let's create a Dataframe to visualize it better\n",
    "fraud_df = pd.DataFrame(fraud_customer, columns = ['Customer ID','Fraud Probability'] )\n",
    "fraud_df.sort_values(by = ['Fraud Probability'], ascending = False, inplace = True) # Sort the probabilities\n",
    "fraud_df.reset_index(drop = True, inplace = True)\n",
    "fraud_df.head()"
   ]
  },
  {
   "cell_type": "markdown",
   "metadata": {},
   "source": [
    "## Visualize the probability of fraud"
   ]
  },
  {
   "cell_type": "markdown",
   "metadata": {},
   "source": [
    "Let's visualize the customer with a probability of Fraud higher than 30 %"
   ]
  },
  {
   "cell_type": "code",
   "execution_count": 149,
   "metadata": {},
   "outputs": [],
   "source": [
    "fraud_df = fraud_df[fraud_df['Fraud Probability'] >= 0.30]"
   ]
  },
  {
   "cell_type": "code",
   "execution_count": 150,
   "metadata": {},
   "outputs": [
    {
     "data": {
      "image/png": "[encoded data removed]",
      "text/plain": [
       "<matplotlib.figure.Figure at 0x14bec15eac8>"
      ]
     },
     "metadata": {},
     "output_type": "display_data"
    }
   ],
   "source": [
    "plt.figure(figsize = (16,5))\n",
    "ax = sns.barplot(x = 'Customer ID', y = \"Fraud Probability\", data = fraud_df, order = fraud_df['Customer ID'])\n",
    "for item in ax.get_xticklabels(): item.set_rotation(90)\n",
    "plt.show()"
   ]
  }
 ],
 "metadata": {
  "kernelspec": {
   "display_name": "Python 3",
   "language": "python",
   "name": "python3"
  },
  "language_info": {
   "codemirror_mode": {
    "name": "ipython",
    "version": 3
   },
   "file_extension": ".py",
   "mimetype": "text/x-python",
   "name": "python",
   "nbconvert_exporter": "python",
   "pygments_lexer": "ipython3",
   "version": "3.6.5"
  }
 },
 "nbformat": 4,
 "nbformat_minor": 2
}
